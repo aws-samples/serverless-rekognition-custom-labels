{
 "cells": [
  {
   "cell_type": "markdown",
   "id": "deef68a9",
   "metadata": {},
   "source": [
    "# Serverless Rekognition Custom Labels - Data Preparation\n",
    "\n",
    "## Setup environment"
   ]
  },
  {
   "cell_type": "code",
   "execution_count": 1,
   "id": "a8c655ee",
   "metadata": {},
   "outputs": [
    {
     "name": "stdout",
     "output_type": "stream",
     "text": [
      "Collecting jsonlines\n",
      "  Downloading jsonlines-2.0.0-py3-none-any.whl (6.3 kB)\n",
      "Installing collected packages: jsonlines\n",
      "Successfully installed jsonlines-2.0.0\n"
     ]
    }
   ],
   "source": [
    "!pip install jsonlines\n",
    "import jsonlines"
   ]
  },
  {
   "cell_type": "code",
   "execution_count": 2,
   "id": "fafe6c4c",
   "metadata": {},
   "outputs": [],
   "source": [
    "import sagemaker\n",
    "\n",
    "sagemaker_session = sagemaker.Session()"
   ]
  },
  {
   "cell_type": "markdown",
   "id": "d3e1cb75",
   "metadata": {},
   "source": [
    "## Bucket setup and data download"
   ]
  },
  {
   "cell_type": "code",
   "execution_count": 4,
   "id": "4c09f1a9",
   "metadata": {},
   "outputs": [],
   "source": [
    "BUCKET = 'customlabels-bee-dataset'"
   ]
  },
  {
   "cell_type": "code",
   "execution_count": 5,
   "id": "87884bab",
   "metadata": {},
   "outputs": [
    {
     "name": "stdout",
     "output_type": "stream",
     "text": [
      "mkdir: cannot create directory ‘dataset’: File exists\n",
      "--2021-09-30 05:33:25--  https://tf2-object-detection.s3-eu-west-1.amazonaws.com/data/bees/input/dataset.zip\n",
      "Resolving tf2-object-detection.s3-eu-west-1.amazonaws.com (tf2-object-detection.s3-eu-west-1.amazonaws.com)... 52.218.40.32\n",
      "Connecting to tf2-object-detection.s3-eu-west-1.amazonaws.com (tf2-object-detection.s3-eu-west-1.amazonaws.com)|52.218.40.32|:443... connected.\n",
      "HTTP request sent, awaiting response... 200 OK\n",
      "Length: 69231892 (66M) [application/zip]\n",
      "Saving to: ‘dataset.zip’\n",
      "\n",
      "dataset.zip         100%[===================>]  66.02M  58.2MB/s    in 1.1s    \n",
      "\n",
      "2021-09-30 05:33:26 (58.2 MB/s) - ‘dataset.zip’ saved [69231892/69231892]\n",
      "\n"
     ]
    }
   ],
   "source": [
    "!mkdir dataset\n",
    "!wget -O dataset.zip https://tf2-object-detection.s3-eu-west-1.amazonaws.com/data/bees/input/dataset.zip\n",
    "!unzip -q -o dataset.zip -d dataset\n",
    "!rm dataset.zip"
   ]
  },
  {
   "cell_type": "code",
   "execution_count": 6,
   "id": "1ee6dff5",
   "metadata": {},
   "outputs": [],
   "source": [
    "reader = jsonlines.open('dataset/output.manifest')\n",
    "lines = list(reader)"
   ]
  },
  {
   "cell_type": "code",
   "execution_count": 7,
   "id": "a511f7de",
   "metadata": {},
   "outputs": [],
   "source": [
    "for i in range(len(lines)):\n",
    "    lines[i]['source-ref'] = lines[i]['source-ref'].replace('sagemaker-remars/datasets/na-bees/500', BUCKET+'/data/bees/raw')"
   ]
  },
  {
   "cell_type": "code",
   "execution_count": 8,
   "id": "77da02c1",
   "metadata": {},
   "outputs": [],
   "source": [
    "writer = jsonlines.Writer(open('dataset/output.manifest', 'w'))\n",
    "writer.write_all(lines)\n",
    "writer.close()"
   ]
  },
  {
   "cell_type": "code",
   "execution_count": 9,
   "id": "a93d2a71",
   "metadata": {},
   "outputs": [
    {
     "name": "stdout",
     "output_type": "stream",
     "text": [
      "s3://customlabels-bee-dataset/data/bees/raw\n"
     ]
    }
   ],
   "source": [
    "prefix = 'data/bees/raw'\n",
    "s3_input = sagemaker_session.upload_data('dataset', BUCKET, prefix)\n",
    "print(s3_input)"
   ]
  },
  {
   "cell_type": "markdown",
   "id": "11a12aad",
   "metadata": {},
   "source": [
    "## Move to blog post to create the training job"
   ]
  }
 ],
 "metadata": {
  "kernelspec": {
   "display_name": "conda_python3",
   "language": "python",
   "name": "conda_python3"
  },
  "language_info": {
   "codemirror_mode": {
    "name": "ipython",
    "version": 3
   },
   "file_extension": ".py",
   "mimetype": "text/x-python",
   "name": "python",
   "nbconvert_exporter": "python",
   "pygments_lexer": "ipython3",
   "version": "3.6.13"
  }
 },
 "nbformat": 4,
 "nbformat_minor": 5
}
